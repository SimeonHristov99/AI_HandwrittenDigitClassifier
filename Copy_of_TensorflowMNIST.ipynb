{
  "nbformat": 4,
  "nbformat_minor": 0,
  "metadata": {
    "colab": {
      "name": "Copy of TensorflowMNIST.ipynb",
      "provenance": [],
      "collapsed_sections": [],
      "authorship_tag": "ABX9TyMtPTGixhMRqcUf17x7kOYj",
      "include_colab_link": true
    },
    "kernelspec": {
      "name": "python3",
      "display_name": "Python 3"
    },
    "language_info": {
      "name": "python"
    },
    "accelerator": "TPU"
  },
  "cells": [
    {
      "cell_type": "markdown",
      "metadata": {
        "id": "view-in-github",
        "colab_type": "text"
      },
      "source": [
        "<a href=\"https://colab.research.google.com/github/SimeonHristov99/AI_HandwrittenDigitClassifier_Tensorflow/blob/main/Copy_of_TensorflowMNIST.ipynb\" target=\"_parent\"><img src=\"https://colab.research.google.com/assets/colab-badge.svg\" alt=\"Open In Colab\"/></a>"
      ]
    },
    {
      "cell_type": "markdown",
      "metadata": {
        "id": "RGg6ePrpt8Tw"
      },
      "source": [
        "# Description\n",
        "\n",
        "Handwritten digit classifier\n",
        "------------\n",
        "\n",
        "The goal of this project is to build and train a digit classifier based on the [MNIST](https://wiki.pathmind.com/mnist) dataset. This is achieved by using [Tensorflow](https://www.tensorflow.org/)."
      ]
    },
    {
      "cell_type": "code",
      "metadata": {
        "id": "IcoScg5UqRnL"
      },
      "source": [
        "import tensorflow as tf\n",
        "import pandas as pd\n",
        "from tensorflow import keras\n",
        "import numpy as np\n",
        "import matplotlib.pyplot as plt"
      ],
      "execution_count": 1,
      "outputs": []
    },
    {
      "cell_type": "markdown",
      "metadata": {
        "id": "CCYgYmuHxcmi"
      },
      "source": [
        "# Loading data"
      ]
    },
    {
      "cell_type": "code",
      "metadata": {
        "colab": {
          "base_uri": "https://localhost:8080/"
        },
        "id": "7wEc2xPdyQrg",
        "outputId": "1e93856d-1417-4199-92ad-ef4dab31a006"
      },
      "source": [
        "from tensorflow.keras.datasets import mnist\n",
        "\n",
        "(X_train, y_train), (X_test, y_test) = mnist.load_data()\n",
        "\n",
        "print('Training set:', X_train.shape, y_train.shape)\n",
        "print('Test set:', X_test.shape, y_test.shape)"
      ],
      "execution_count": 2,
      "outputs": [
        {
          "output_type": "stream",
          "text": [
            "Downloading data from https://storage.googleapis.com/tensorflow/tf-keras-datasets/mnist.npz\n",
            "11493376/11490434 [==============================] - 0s 0us/step\n",
            "Training set: (60000, 28, 28) (60000,)\n",
            "Test set: (10000, 28, 28) (10000,)\n"
          ],
          "name": "stdout"
        }
      ]
    },
    {
      "cell_type": "markdown",
      "metadata": {
        "id": "I38ooPrvyW8y"
      },
      "source": [
        "There are 60000 training images with dimensions 28 x 28. In other words, each sample is a square matrx and every element in that matrix is a value of a pixel. The lower the value the less \"activation\" that pixel has."
      ]
    },
    {
      "cell_type": "code",
      "metadata": {
        "colab": {
          "base_uri": "https://localhost:8080/"
        },
        "id": "i-f_4ydiyX0d",
        "outputId": "9e62665a-0cea-4117-fdbb-2ee92a8a39da"
      },
      "source": [
        "X_train.dtype"
      ],
      "execution_count": 3,
      "outputs": [
        {
          "output_type": "execute_result",
          "data": {
            "text/plain": [
              "dtype('uint8')"
            ]
          },
          "metadata": {
            "tags": []
          },
          "execution_count": 3
        }
      ]
    },
    {
      "cell_type": "code",
      "metadata": {
        "colab": {
          "base_uri": "https://localhost:8080/"
        },
        "id": "QXrJsYZm5r8p",
        "outputId": "cad7e9bf-8e26-4d6b-cbec-c5c6fc7fe2bd"
      },
      "source": [
        "np.unique(y_train)"
      ],
      "execution_count": 4,
      "outputs": [
        {
          "output_type": "execute_result",
          "data": {
            "text/plain": [
              "array([0, 1, 2, 3, 4, 5, 6, 7, 8, 9], dtype=uint8)"
            ]
          },
          "metadata": {
            "tags": []
          },
          "execution_count": 4
        }
      ]
    },
    {
      "cell_type": "markdown",
      "metadata": {
        "id": "pxplvtJByjSy"
      },
      "source": [
        "There are 10 classes to predict - each label is the actual digit"
      ]
    },
    {
      "cell_type": "markdown",
      "metadata": {
        "id": "d7cdKKA8y58h"
      },
      "source": [
        "# Visualizing data"
      ]
    },
    {
      "cell_type": "code",
      "metadata": {
        "colab": {
          "base_uri": "https://localhost:8080/",
          "height": 223
        },
        "id": "tUPcC9lQy8E2",
        "outputId": "bdae7e37-fb87-4e8c-f4de-720f818fd8f2"
      },
      "source": [
        "for i in range(10):\n",
        "  plt.subplot(2, 5, i + 1)\n",
        "  sample_idx = np.random.randint(X_train.shape[0]) # generate random number between 0 and 59_999\n",
        "  image = X_train[sample_idx] # get that image\n",
        "  plt.imshow(image, cmap='gray')\n",
        "  plt.axis('off')\n",
        "  plt.title(y_train[sample_idx])\n",
        "\n",
        "plt.show()"
      ],
      "execution_count": 5,
      "outputs": [
        {
          "output_type": "display_data",
          "data": {
            "image/png": "[encoded data removed]",
            "text/plain": [
              "<Figure size 432x288 with 10 Axes>"
            ]
          },
          "metadata": {
            "tags": [],
            "needs_background": "light"
          }
        }
      ]
    },
    {
      "cell_type": "markdown",
      "metadata": {
        "id": "l2-gEZikxh6J"
      },
      "source": [
        "# Data pre-processing"
      ]
    },
    {
      "cell_type": "code",
      "metadata": {
        "colab": {
          "base_uri": "https://localhost:8080/"
        },
        "id": "2nnRfIbrJ1w0",
        "outputId": "77979c31-332b-4427-ae6d-0f947f6b752c"
      },
      "source": [
        "X_train.shape"
      ],
      "execution_count": 6,
      "outputs": [
        {
          "output_type": "execute_result",
          "data": {
            "text/plain": [
              "(60000, 28, 28)"
            ]
          },
          "metadata": {
            "tags": []
          },
          "execution_count": 6
        }
      ]
    },
    {
      "cell_type": "code",
      "metadata": {
        "colab": {
          "base_uri": "https://localhost:8080/"
        },
        "id": "iLXDq-zsMX5o",
        "outputId": "c500f1f1-17ee-4bd2-c604-c59503499384"
      },
      "source": [
        "X_train = tf.expand_dims(X_train, -1)\n",
        "X_test = tf.expand_dims(X_test, -1)\n",
        "X_train.shape"
      ],
      "execution_count": 7,
      "outputs": [
        {
          "output_type": "execute_result",
          "data": {
            "text/plain": [
              "TensorShape([60000, 28, 28, 1])"
            ]
          },
          "metadata": {
            "tags": []
          },
          "execution_count": 7
        }
      ]
    },
    {
      "cell_type": "code",
      "metadata": {
        "id": "7OhRs_ARyx1U"
      },
      "source": [
        "X_train = X_train / 255\n",
        "X_test = X_test / 255"
      ],
      "execution_count": 8,
      "outputs": []
    },
    {
      "cell_type": "markdown",
      "metadata": {
        "id": "gp41H9tTxr_a"
      },
      "source": [
        "# Choosing a model"
      ]
    },
    {
      "cell_type": "code",
      "metadata": {
        "id": "urNvVL8w2Vwj"
      },
      "source": [
        "model = keras.Sequential([\n",
        " keras.layers.Conv2D(filters=16, kernel_size=3, activation='relu', padding='same', input_shape=(28, 28, 1)),\n",
        " keras.layers.MaxPool2D(),\n",
        " keras.layers.Conv2D(filters=16, kernel_size=3, activation='relu', padding='same'),\n",
        " keras.layers.MaxPool2D(),\n",
        " keras.layers.Flatten(),\n",
        " keras.layers.Dense(units=10, activation='softmax')\n",
        "])\n",
        "\n",
        "model.compile(\n",
        "    optimizer=tf.keras.optimizers.Adam(),\n",
        "    loss='sparse_categorical_crossentropy',\n",
        "    metrics=['accuracy']\n",
        ")"
      ],
      "execution_count": 9,
      "outputs": []
    },
    {
      "cell_type": "markdown",
      "metadata": {
        "id": "HIe2N-tFxxyj"
      },
      "source": [
        "# Training"
      ]
    },
    {
      "cell_type": "code",
      "metadata": {
        "colab": {
          "base_uri": "https://localhost:8080/"
        },
        "id": "I0JKlO1rVWMa",
        "outputId": "defea8db-0252-49a7-95a2-cfa247006872"
      },
      "source": [
        "history = model.fit(\n",
        "    X_train,\n",
        "    y_train,\n",
        "    validation_split=0.2,\n",
        "    epochs=10,\n",
        "    batch_size=32\n",
        ")"
      ],
      "execution_count": 10,
      "outputs": [
        {
          "output_type": "stream",
          "text": [
            "Epoch 1/10\n",
            "1500/1500 [==============================] - 34s 22ms/step - loss: 0.2552 - accuracy: 0.9246 - val_loss: 0.0985 - val_accuracy: 0.9720\n",
            "Epoch 2/10\n",
            "1500/1500 [==============================] - 33s 22ms/step - loss: 0.0829 - accuracy: 0.9752 - val_loss: 0.0690 - val_accuracy: 0.9795\n",
            "Epoch 3/10\n",
            "1500/1500 [==============================] - 33s 22ms/step - loss: 0.0620 - accuracy: 0.9817 - val_loss: 0.0549 - val_accuracy: 0.9836\n",
            "Epoch 4/10\n",
            "1500/1500 [==============================] - 33s 22ms/step - loss: 0.0495 - accuracy: 0.9849 - val_loss: 0.0578 - val_accuracy: 0.9824\n",
            "Epoch 5/10\n",
            "1500/1500 [==============================] - 33s 22ms/step - loss: 0.0431 - accuracy: 0.9872 - val_loss: 0.0541 - val_accuracy: 0.9832\n",
            "Epoch 6/10\n",
            "1500/1500 [==============================] - 33s 22ms/step - loss: 0.0366 - accuracy: 0.9888 - val_loss: 0.0476 - val_accuracy: 0.9866\n",
            "Epoch 7/10\n",
            "1500/1500 [==============================] - 33s 22ms/step - loss: 0.0331 - accuracy: 0.9894 - val_loss: 0.0477 - val_accuracy: 0.9865\n",
            "Epoch 8/10\n",
            "1500/1500 [==============================] - 33s 22ms/step - loss: 0.0284 - accuracy: 0.9908 - val_loss: 0.0520 - val_accuracy: 0.9849\n",
            "Epoch 9/10\n",
            "1500/1500 [==============================] - 34s 22ms/step - loss: 0.0252 - accuracy: 0.9920 - val_loss: 0.0477 - val_accuracy: 0.9869\n",
            "Epoch 10/10\n",
            "1500/1500 [==============================] - 33s 22ms/step - loss: 0.0225 - accuracy: 0.9929 - val_loss: 0.0475 - val_accuracy: 0.9867\n"
          ],
          "name": "stdout"
        }
      ]
    },
    {
      "cell_type": "code",
      "metadata": {
        "colab": {
          "base_uri": "https://localhost:8080/"
        },
        "id": "Za4uSnwiUFIZ",
        "outputId": "9ccd06fa-9dad-4ea5-ab70-73078b5e6886"
      },
      "source": [
        "model.summary()"
      ],
      "execution_count": 11,
      "outputs": [
        {
          "output_type": "stream",
          "text": [
            "Model: \"sequential\"\n",
            "_________________________________________________________________\n",
            "Layer (type)                 Output Shape              Param #   \n",
            "=================================================================\n",
            "conv2d (Conv2D)              (None, 28, 28, 16)        160       \n",
            "_________________________________________________________________\n",
            "max_pooling2d (MaxPooling2D) (None, 14, 14, 16)        0         \n",
            "_________________________________________________________________\n",
            "conv2d_1 (Conv2D)            (None, 14, 14, 16)        2320      \n",
            "_________________________________________________________________\n",
            "max_pooling2d_1 (MaxPooling2 (None, 7, 7, 16)          0         \n",
            "_________________________________________________________________\n",
            "flatten (Flatten)            (None, 784)               0         \n",
            "_________________________________________________________________\n",
            "dense (Dense)                (None, 10)                7850      \n",
            "=================================================================\n",
            "Total params: 10,330\n",
            "Trainable params: 10,330\n",
            "Non-trainable params: 0\n",
            "_________________________________________________________________\n"
          ],
          "name": "stdout"
        }
      ]
    },
    {
      "cell_type": "markdown",
      "metadata": {
        "id": "qv7ADFNdx0gq"
      },
      "source": [
        "# Evaluation"
      ]
    },
    {
      "cell_type": "code",
      "metadata": {
        "colab": {
          "base_uri": "https://localhost:8080/",
          "height": 432
        },
        "id": "MyTZ5QFyRH1A",
        "outputId": "f2cc97a2-a6d4-4f44-85cf-205a3bc7e9d4"
      },
      "source": [
        "pd.DataFrame(history.history).plot(figsize=(10, 7))\n",
        "plt.grid(True)\n",
        "plt.gca().set_ylim(0, 1) # set the vertical range to [0-1]\n",
        "plt.show()"
      ],
      "execution_count": 12,
      "outputs": [
        {
          "output_type": "display_data",
          "data": {
            "image/png": "[encoded data removed]",
            "text/plain": [
              "<Figure size 720x504 with 1 Axes>"
            ]
          },
          "metadata": {
            "tags": [],
            "needs_background": "light"
          }
        }
      ]
    },
    {
      "cell_type": "code",
      "metadata": {
        "colab": {
          "base_uri": "https://localhost:8080/"
        },
        "id": "aebmKin8SMOF",
        "outputId": "836218d7-8647-4e0c-9870-172de49e434a"
      },
      "source": [
        "model.evaluate(X_test, y_test)"
      ],
      "execution_count": 13,
      "outputs": [
        {
          "output_type": "stream",
          "text": [
            "313/313 [==============================] - 3s 9ms/step - loss: 0.0363 - accuracy: 0.9888\n"
          ],
          "name": "stdout"
        },
        {
          "output_type": "execute_result",
          "data": {
            "text/plain": [
              "[0.036322761327028275, 0.9887999892234802]"
            ]
          },
          "metadata": {
            "tags": []
          },
          "execution_count": 13
        }
      ]
    }
  ]
}