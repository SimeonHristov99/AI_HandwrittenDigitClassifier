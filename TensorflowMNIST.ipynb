{
  "nbformat": 4,
  "nbformat_minor": 0,
  "metadata": {
    "colab": {
      "name": "TensorflowMNIST.ipynb",
      "provenance": [],
      "collapsed_sections": [],
      "authorship_tag": "ABX9TyPAG1Utf6w3c0hdplxGW8kV",
      "include_colab_link": true
    },
    "kernelspec": {
      "name": "python3",
      "display_name": "Python 3"
    },
    "language_info": {
      "name": "python"
    }
  },
  "cells": [
    {
      "cell_type": "markdown",
      "metadata": {
        "id": "view-in-github",
        "colab_type": "text"
      },
      "source": [
        "<a href=\"https://colab.research.google.com/github/SimeonHristov99/AI_HandwrittenDigitClassifier_Tensorflow/blob/main/TensorflowMNIST.ipynb\" target=\"_parent\"><img src=\"https://colab.research.google.com/assets/colab-badge.svg\" alt=\"Open In Colab\"/></a>"
      ]
    },
    {
      "cell_type": "markdown",
      "metadata": {
        "id": "RGg6ePrpt8Tw"
      },
      "source": [
        "# Deep Learning\n",
        "\n",
        "Handwritten digit classifier\n",
        "------------\n",
        "\n",
        "The goal of this project is to build and train a digit classifier based on the [MNIST](https://wiki.pathmind.com/mnist) dataset. This is achieved by using [Tensorflow](https://www.tensorflow.org/).\n",
        "\n",
        "### NOTE: The Keras API is only used to get the dataset, i.e. the neural networks are built using the [nn module](https://www.tensorflow.org/api_docs/python/tf/nn)."
      ]
    },
    {
      "cell_type": "markdown",
      "metadata": {
        "id": "LF24Kn9f4qsq"
      },
      "source": [
        "# Preparation"
      ]
    },
    {
      "cell_type": "code",
      "metadata": {
        "id": "IcoScg5UqRnL"
      },
      "source": [
        "import tensorflow as tf\n",
        "import numpy as np\n",
        "import matplotlib.pyplot as plt\n",
        "\n",
        "from tensorflow.keras.datasets import mnist\n",
        "from sklearn.model_selection import train_test_split"
      ],
      "execution_count": 39,
      "outputs": []
    },
    {
      "cell_type": "markdown",
      "metadata": {
        "id": "hRRu3LlBu2xl"
      },
      "source": [
        "## There are 60000 training images with dimensions 28 x 28. In other words, each sample is a square matrx and every element in that matrix is a value of a pixel. The lower the value the less \"activation\" that pixel has."
      ]
    },
    {
      "cell_type": "code",
      "metadata": {
        "colab": {
          "base_uri": "https://localhost:8080/"
        },
        "id": "X6svTG_RqXQu",
        "outputId": "a82f641b-7255-4090-bc4b-13403273ece7"
      },
      "source": [
        "(X_train, y_train), (X_test, y_test) = mnist.load_data()\n",
        "\n",
        "print('Training set:', X_train.shape, y_train.shape)\n",
        "print('Test set:', X_test.shape, y_test.shape)"
      ],
      "execution_count": 40,
      "outputs": [
        {
          "output_type": "stream",
          "text": [
            "Training set: (60000, 28, 28) (60000,)\n",
            "Test set: (10000, 28, 28) (10000,)\n"
          ],
          "name": "stdout"
        }
      ]
    },
    {
      "cell_type": "markdown",
      "metadata": {
        "id": "j1Uob6_o5oST"
      },
      "source": [
        "## There are 10 classes to predict. Each label is the actual digit."
      ]
    },
    {
      "cell_type": "code",
      "metadata": {
        "colab": {
          "base_uri": "https://localhost:8080/"
        },
        "id": "QXrJsYZm5r8p",
        "outputId": "582cc09e-1817-4ad8-9c5f-667e024bb07b"
      },
      "source": [
        "np.unique(y_train)"
      ],
      "execution_count": 41,
      "outputs": [
        {
          "output_type": "execute_result",
          "data": {
            "text/plain": [
              "array([0, 1, 2, 3, 4, 5, 6, 7, 8, 9], dtype=uint8)"
            ]
          },
          "metadata": {
            "tags": []
          },
          "execution_count": 41
        }
      ]
    },
    {
      "cell_type": "markdown",
      "metadata": {
        "id": "VTx3Pe2m_Cmr"
      },
      "source": [
        "### Use 20% of the training set to make a validation set."
      ]
    },
    {
      "cell_type": "code",
      "metadata": {
        "colab": {
          "base_uri": "https://localhost:8080/"
        },
        "id": "6HkcYUxx_FgS",
        "outputId": "b860d1d2-e418-4485-90f6-cd9783b07da7"
      },
      "source": [
        "X_train, val_train, y_train, val_test = train_test_split(X_train, y_train, test_size=0.2)\n",
        "\n",
        "NUM_TRAIN = X_train.shape[0]\n",
        "\n",
        "print('Training set:', X_train.shape, y_train.shape)\n",
        "print('Validation set:', val_train.shape, val_test.shape)\n",
        "print('Test set:', X_test.shape, y_test.shape)"
      ],
      "execution_count": 42,
      "outputs": [
        {
          "output_type": "stream",
          "text": [
            "Training set: (48000, 28, 28) (48000,)\n",
            "Validation set: (12000, 28, 28) (12000,)\n",
            "Test set: (10000, 28, 28) (10000,)\n"
          ],
          "name": "stdout"
        }
      ]
    },
    {
      "cell_type": "markdown",
      "metadata": {
        "id": "I-_1IwSIriNr"
      },
      "source": [
        "## Here's what 10 samples look like."
      ]
    },
    {
      "cell_type": "code",
      "metadata": {
        "colab": {
          "base_uri": "https://localhost:8080/",
          "height": 223
        },
        "id": "MJyaNsuYsYRe",
        "outputId": "364125ca-d1bb-4f05-fd78-cb5e0137fb87"
      },
      "source": [
        "for i in range(10):\n",
        "  plt.subplot(2, 5, i + 1)\n",
        "  sample_idx = np.random.randint(NUM_TRAIN) # generate random number between 0 and 59_999\n",
        "  image = X_train[sample_idx] # get that image\n",
        "  plt.imshow(image, cmap='gray')\n",
        "  plt.axis('off')\n",
        "  plt.title(y_train[sample_idx])\n",
        "\n",
        "plt.show()"
      ],
      "execution_count": 43,
      "outputs": [
        {
          "output_type": "display_data",
          "data": {
            "image/png": "[encoded data removed]",
            "text/plain": [
              "<Figure size 432x288 with 10 Axes>"
            ]
          },
          "metadata": {
            "tags": [],
            "needs_background": "light"
          }
        }
      ]
    },
    {
      "cell_type": "markdown",
      "metadata": {
        "id": "9UayAmeA4s8K"
      },
      "source": [
        "# Building and training model"
      ]
    },
    {
      "cell_type": "markdown",
      "metadata": {
        "id": "EmfqS-lc4zD-"
      },
      "source": [
        "## Description of the model:\n",
        "  - Layer 1: Flattening layer. Used to combine all pixels in one big vector.\n",
        "  - Layer 2: Convolutional layer with 256 neurons.\n",
        "  - Layer 3: Output layer with 10 neurons, representing the different classes."
      ]
    },
    {
      "cell_type": "code",
      "metadata": {
        "id": "Cof_anKo6yo4"
      },
      "source": [
        "# When you receive an image, first flatten it. We'll get 28*28 = 729 pixels which will be the input neurons.\n",
        "# Then we'll define the weights and the biases.\n",
        "# Then the relu (it will give the outputs of the first layer)\n",
        "\n",
        "input = np.ndarray.flatten(image)\n",
        "\n",
        "# filter width = 3\n",
        "# filter height = 3\n",
        "# input channels = 1\n",
        "\n",
        "tf.Variable(tf.random.truncated_normal((3, 3, 1, 16), stddev=0.1))\n",
        "tf.Variable(tf.zeros(16))\n",
        "\n",
        "W1 = tf.Variable(tf.random.uniform((), minval=-1, maxval=1))\n",
        "b1 = tf.Variable(tf.ones(input.shape))\n",
        "\n",
        "# tf.nn.conv2d(input, )\n",
        "\n",
        "\n",
        "# for image in X_train:\n",
        "#   print(image)"
      ],
      "execution_count": 45,
      "outputs": []
    },
    {
      "cell_type": "code",
      "metadata": {
        "id": "G_VvSOIku-F8"
      },
      "source": [
        ""
      ],
      "execution_count": null,
      "outputs": []
    }
  ]
}