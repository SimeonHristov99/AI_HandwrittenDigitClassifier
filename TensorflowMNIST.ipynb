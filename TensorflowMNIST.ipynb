{
  "nbformat": 4,
  "nbformat_minor": 0,
  "metadata": {
    "colab": {
      "name": "TensorflowMNIST.ipynb",
      "provenance": [],
      "collapsed_sections": [],
      "authorship_tag": "ABX9TyN3PDOZ/pwZGl41wV4QI3Yy",
      "include_colab_link": true
    },
    "kernelspec": {
      "name": "python3",
      "display_name": "Python 3"
    },
    "language_info": {
      "name": "python"
    },
    "accelerator": "TPU"
  },
  "cells": [
    {
      "cell_type": "markdown",
      "metadata": {
        "id": "view-in-github",
        "colab_type": "text"
      },
      "source": [
        "<a href=\"https://colab.research.google.com/github/SimeonHristov99/AI_HandwrittenDigitClassifier_Tensorflow/blob/main/TensorflowMNIST.ipynb\" target=\"_parent\"><img src=\"https://colab.research.google.com/assets/colab-badge.svg\" alt=\"Open In Colab\"/></a>"
      ]
    },
    {
      "cell_type": "markdown",
      "metadata": {
        "id": "RGg6ePrpt8Tw"
      },
      "source": [
        "# Description\n",
        "\n",
        "Handwritten digit classifier\n",
        "------------\n",
        "\n",
        "The goal of this project is to build and train a digit classifier based on the [MNIST](https://wiki.pathmind.com/mnist) dataset. This is achieved by using [Tensorflow](https://www.tensorflow.org/)."
      ]
    },
    {
      "cell_type": "code",
      "metadata": {
        "id": "IcoScg5UqRnL"
      },
      "source": [
        "import tensorflow as tf\n",
        "import pandas as pd\n",
        "from tensorflow import keras\n",
        "import numpy as np\n",
        "import matplotlib.pyplot as plt"
      ],
      "execution_count": 1,
      "outputs": []
    },
    {
      "cell_type": "markdown",
      "metadata": {
        "id": "CCYgYmuHxcmi"
      },
      "source": [
        "# Loading data"
      ]
    },
    {
      "cell_type": "code",
      "metadata": {
        "colab": {
          "base_uri": "https://localhost:8080/"
        },
        "id": "7wEc2xPdyQrg",
        "outputId": "a608c995-6d33-4908-b7b0-1c1ac5adc06e"
      },
      "source": [
        "from tensorflow.keras.datasets import mnist\n",
        "\n",
        "(X_train, y_train), (X_test, y_test) = mnist.load_data()\n",
        "\n",
        "print('Training set:', X_train.shape, y_train.shape)\n",
        "print('Test set:', X_test.shape, y_test.shape)"
      ],
      "execution_count": 2,
      "outputs": [
        {
          "output_type": "stream",
          "text": [
            "Training set: (60000, 28, 28) (60000,)\n",
            "Test set: (10000, 28, 28) (10000,)\n"
          ],
          "name": "stdout"
        }
      ]
    },
    {
      "cell_type": "markdown",
      "metadata": {
        "id": "I38ooPrvyW8y"
      },
      "source": [
        "There are 60000 training images with dimensions 28 x 28. In other words, each sample is a square matrx and every element in that matrix is a value of a pixel. The lower the value the less \"activation\" that pixel has."
      ]
    },
    {
      "cell_type": "code",
      "metadata": {
        "colab": {
          "base_uri": "https://localhost:8080/"
        },
        "id": "i-f_4ydiyX0d",
        "outputId": "ef8293a6-4c5d-4da9-948e-fc2a734d248e"
      },
      "source": [
        "X_train.dtype"
      ],
      "execution_count": 3,
      "outputs": [
        {
          "output_type": "execute_result",
          "data": {
            "text/plain": [
              "dtype('uint8')"
            ]
          },
          "metadata": {
            "tags": []
          },
          "execution_count": 3
        }
      ]
    },
    {
      "cell_type": "code",
      "metadata": {
        "colab": {
          "base_uri": "https://localhost:8080/"
        },
        "id": "QXrJsYZm5r8p",
        "outputId": "b119dc25-da57-4f0d-e9e4-62aa270340fa"
      },
      "source": [
        "np.unique(y_train)"
      ],
      "execution_count": 4,
      "outputs": [
        {
          "output_type": "execute_result",
          "data": {
            "text/plain": [
              "array([0, 1, 2, 3, 4, 5, 6, 7, 8, 9], dtype=uint8)"
            ]
          },
          "metadata": {
            "tags": []
          },
          "execution_count": 4
        }
      ]
    },
    {
      "cell_type": "markdown",
      "metadata": {
        "id": "pxplvtJByjSy"
      },
      "source": [
        "There are 10 classes to predict - each label is the actual digit"
      ]
    },
    {
      "cell_type": "markdown",
      "metadata": {
        "id": "d7cdKKA8y58h"
      },
      "source": [
        "# Visualizing data"
      ]
    },
    {
      "cell_type": "code",
      "metadata": {
        "colab": {
          "base_uri": "https://localhost:8080/",
          "height": 223
        },
        "id": "tUPcC9lQy8E2",
        "outputId": "99ab762d-1e5a-49a3-ba4f-14387c191ade"
      },
      "source": [
        "for i in range(10):\n",
        "  plt.subplot(2, 5, i + 1)\n",
        "  sample_idx = np.random.randint(X_train.shape[0]) # generate random number between 0 and 59_999\n",
        "  image = X_train[sample_idx] # get that image\n",
        "  plt.imshow(image, cmap='gray')\n",
        "  plt.axis('off')\n",
        "  plt.title(y_train[sample_idx])\n",
        "\n",
        "plt.show()"
      ],
      "execution_count": 5,
      "outputs": [
        {
          "output_type": "display_data",
          "data": {
            "image/png": "[encoded data removed]",
            "text/plain": [
              "<Figure size 432x288 with 10 Axes>"
            ]
          },
          "metadata": {
            "tags": [],
            "needs_background": "light"
          }
        }
      ]
    },
    {
      "cell_type": "markdown",
      "metadata": {
        "id": "l2-gEZikxh6J"
      },
      "source": [
        "# Data pre-processing"
      ]
    },
    {
      "cell_type": "code",
      "metadata": {
        "colab": {
          "base_uri": "https://localhost:8080/"
        },
        "id": "2nnRfIbrJ1w0",
        "outputId": "68e68346-9c19-4cbd-ba1e-f8788c3f0fa3"
      },
      "source": [
        "X_train.shape"
      ],
      "execution_count": 6,
      "outputs": [
        {
          "output_type": "execute_result",
          "data": {
            "text/plain": [
              "(60000, 28, 28)"
            ]
          },
          "metadata": {
            "tags": []
          },
          "execution_count": 6
        }
      ]
    },
    {
      "cell_type": "code",
      "metadata": {
        "colab": {
          "base_uri": "https://localhost:8080/"
        },
        "id": "iLXDq-zsMX5o",
        "outputId": "5ae4135c-6975-43e3-a44d-bb2b7b9a61ab"
      },
      "source": [
        "X_train = tf.expand_dims(X_train, -1)\n",
        "X_test = tf.expand_dims(X_test, -1)\n",
        "X_train.shape"
      ],
      "execution_count": 7,
      "outputs": [
        {
          "output_type": "execute_result",
          "data": {
            "text/plain": [
              "TensorShape([60000, 28, 28, 1])"
            ]
          },
          "metadata": {
            "tags": []
          },
          "execution_count": 7
        }
      ]
    },
    {
      "cell_type": "code",
      "metadata": {
        "id": "7OhRs_ARyx1U"
      },
      "source": [
        "X_train = X_train / 255\n",
        "X_test = X_test / 255"
      ],
      "execution_count": 8,
      "outputs": []
    },
    {
      "cell_type": "markdown",
      "metadata": {
        "id": "gp41H9tTxr_a"
      },
      "source": [
        "# Choosing a model"
      ]
    },
    {
      "cell_type": "markdown",
      "metadata": {
        "id": "lquMLlrk5qlh"
      },
      "source": [
        "  - Layer 1: Flattening layer. Used to combine all pixels in one big vector.\n",
        "  - Layer 2: Dense hidden layer with 300 neurons. It will use the ReLU activation function.\n",
        "  - Layer 3: Dense hidden layer with 100 neurons. It will use the ReLU activation function.\n",
        "  - Layer 4: Dense output layer with 10 neurons (one per class/digit label). It will use the softmax activation function.\n",
        "\n",
        "Inspiration for the model: [Hands-On Machine Learning with Scikit-Learn, Keras, and TensorFlow](https://www.amazon.com/Hands-Machine-Learning-Scikit-Learn-TensorFlow/dp/1492032646)"
      ]
    },
    {
      "cell_type": "code",
      "metadata": {
        "id": "urNvVL8w2Vwj"
      },
      "source": [
        "model = keras.Sequential([\n",
        " keras.layers.Conv2D(filters=16, kernel_size=3, activation='relu', padding='same', input_shape=(28, 28, 1)),\n",
        " keras.layers.MaxPool2D(),\n",
        " keras.layers.Conv2D(filters=16, kernel_size=3, activation='relu', padding='same', input_shape=(28, 28, 1)),\n",
        " keras.layers.MaxPool2D(),\n",
        " keras.layers.Flatten(),\n",
        " keras.layers.Dense(units=10, activation='softmax')\n",
        "])\n",
        "\n",
        "model.compile(\n",
        "    optimizer=tf.keras.optimizers.Adam(),\n",
        "    loss='sparse_categorical_crossentropy',\n",
        "    metrics=['accuracy']\n",
        ")"
      ],
      "execution_count": 9,
      "outputs": []
    },
    {
      "cell_type": "markdown",
      "metadata": {
        "id": "HIe2N-tFxxyj"
      },
      "source": [
        "# Training"
      ]
    },
    {
      "cell_type": "code",
      "metadata": {
        "colab": {
          "base_uri": "https://localhost:8080/"
        },
        "id": "I0JKlO1rVWMa",
        "outputId": "a73c1a16-4341-458e-8289-2f30672172e8"
      },
      "source": [
        "history = model.fit(\n",
        "    X_train,\n",
        "    y_train,\n",
        "    validation_split=0.2,\n",
        "    epochs=10,\n",
        "    batch_size=32\n",
        ")"
      ],
      "execution_count": 10,
      "outputs": [
        {
          "output_type": "stream",
          "text": [
            "Epoch 1/10\n",
            "1500/1500 [==============================] - 36s 23ms/step - loss: 0.2457 - accuracy: 0.9267 - val_loss: 0.0947 - val_accuracy: 0.9702\n",
            "Epoch 2/10\n",
            "1500/1500 [==============================] - 35s 23ms/step - loss: 0.0817 - accuracy: 0.9749 - val_loss: 0.0764 - val_accuracy: 0.9771\n",
            "Epoch 3/10\n",
            "1500/1500 [==============================] - 35s 23ms/step - loss: 0.0625 - accuracy: 0.9813 - val_loss: 0.0665 - val_accuracy: 0.9800\n",
            "Epoch 4/10\n",
            "1500/1500 [==============================] - 35s 23ms/step - loss: 0.0516 - accuracy: 0.9838 - val_loss: 0.0570 - val_accuracy: 0.9833\n",
            "Epoch 5/10\n",
            "1500/1500 [==============================] - 34s 23ms/step - loss: 0.0440 - accuracy: 0.9863 - val_loss: 0.0494 - val_accuracy: 0.9854\n",
            "Epoch 6/10\n",
            "1500/1500 [==============================] - 36s 24ms/step - loss: 0.0381 - accuracy: 0.9878 - val_loss: 0.0495 - val_accuracy: 0.9857\n",
            "Epoch 7/10\n",
            "1500/1500 [==============================] - 36s 24ms/step - loss: 0.0332 - accuracy: 0.9891 - val_loss: 0.0490 - val_accuracy: 0.9850\n",
            "Epoch 8/10\n",
            "1500/1500 [==============================] - 36s 24ms/step - loss: 0.0289 - accuracy: 0.9902 - val_loss: 0.0482 - val_accuracy: 0.9853\n",
            "Epoch 9/10\n",
            "1500/1500 [==============================] - 35s 24ms/step - loss: 0.0265 - accuracy: 0.9910 - val_loss: 0.0553 - val_accuracy: 0.9837\n",
            "Epoch 10/10\n",
            "1500/1500 [==============================] - 36s 24ms/step - loss: 0.0223 - accuracy: 0.9931 - val_loss: 0.0457 - val_accuracy: 0.9871\n"
          ],
          "name": "stdout"
        }
      ]
    },
    {
      "cell_type": "code",
      "metadata": {
        "colab": {
          "base_uri": "https://localhost:8080/"
        },
        "id": "Za4uSnwiUFIZ",
        "outputId": "2d653955-f3d6-4f7b-c572-931f12216224"
      },
      "source": [
        "model.summary()"
      ],
      "execution_count": 11,
      "outputs": [
        {
          "output_type": "stream",
          "text": [
            "Model: \"sequential\"\n",
            "_________________________________________________________________\n",
            "Layer (type)                 Output Shape              Param #   \n",
            "=================================================================\n",
            "conv2d (Conv2D)              (None, 28, 28, 16)        160       \n",
            "_________________________________________________________________\n",
            "max_pooling2d (MaxPooling2D) (None, 14, 14, 16)        0         \n",
            "_________________________________________________________________\n",
            "conv2d_1 (Conv2D)            (None, 14, 14, 16)        2320      \n",
            "_________________________________________________________________\n",
            "max_pooling2d_1 (MaxPooling2 (None, 7, 7, 16)          0         \n",
            "_________________________________________________________________\n",
            "flatten (Flatten)            (None, 784)               0         \n",
            "_________________________________________________________________\n",
            "dense (Dense)                (None, 10)                7850      \n",
            "=================================================================\n",
            "Total params: 10,330\n",
            "Trainable params: 10,330\n",
            "Non-trainable params: 0\n",
            "_________________________________________________________________\n"
          ],
          "name": "stdout"
        }
      ]
    },
    {
      "cell_type": "markdown",
      "metadata": {
        "id": "qv7ADFNdx0gq"
      },
      "source": [
        "# Evaluation"
      ]
    },
    {
      "cell_type": "code",
      "metadata": {
        "colab": {
          "base_uri": "https://localhost:8080/",
          "height": 432
        },
        "id": "MyTZ5QFyRH1A",
        "outputId": "46e86c9c-76dd-48ef-fa2b-218a795a030a"
      },
      "source": [
        "pd.DataFrame(history.history).plot(figsize=(10, 7))\n",
        "plt.grid(True)\n",
        "plt.gca().set_ylim(0, 1) # set the vertical range to [0-1]\n",
        "plt.show()"
      ],
      "execution_count": 12,
      "outputs": [
        {
          "output_type": "display_data",
          "data": {
            "image/png": "[encoded data removed]",
            "text/plain": [
              "<Figure size 720x504 with 1 Axes>"
            ]
          },
          "metadata": {
            "tags": [],
            "needs_background": "light"
          }
        }
      ]
    },
    {
      "cell_type": "code",
      "metadata": {
        "colab": {
          "base_uri": "https://localhost:8080/"
        },
        "id": "aebmKin8SMOF",
        "outputId": "ee99fdd8-2fe3-4801-9857-ef030db88ae5"
      },
      "source": [
        "model.evaluate(X_test, y_test)"
      ],
      "execution_count": 13,
      "outputs": [
        {
          "output_type": "stream",
          "text": [
            "313/313 [==============================] - 3s 9ms/step - loss: 0.0451 - accuracy: 0.9859\n"
          ],
          "name": "stdout"
        },
        {
          "output_type": "execute_result",
          "data": {
            "text/plain": [
              "[0.045103639364242554, 0.9858999848365784]"
            ]
          },
          "metadata": {
            "tags": []
          },
          "execution_count": 13
        }
      ]
    }
  ]
}