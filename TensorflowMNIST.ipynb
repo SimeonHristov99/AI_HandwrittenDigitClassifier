{
  "nbformat": 4,
  "nbformat_minor": 0,
  "metadata": {
    "colab": {
      "name": "TensorflowMNIST.ipynb",
      "provenance": [],
      "collapsed_sections": [],
      "authorship_tag": "ABX9TyOYuQy6mVCM/0jZY1xtTTgT",
      "include_colab_link": true
    },
    "kernelspec": {
      "name": "python3",
      "display_name": "Python 3"
    },
    "language_info": {
      "name": "python"
    }
  },
  "cells": [
    {
      "cell_type": "markdown",
      "metadata": {
        "id": "view-in-github",
        "colab_type": "text"
      },
      "source": [
        "<a href=\"https://colab.research.google.com/github/SimeonHristov99/AI_HandwrittenDigitClassifier_Tensorflow/blob/main/TensorflowMNIST.ipynb\" target=\"_parent\"><img src=\"https://colab.research.google.com/assets/colab-badge.svg\" alt=\"Open In Colab\"/></a>"
      ]
    },
    {
      "cell_type": "markdown",
      "metadata": {
        "id": "RGg6ePrpt8Tw"
      },
      "source": [
        "# Deep Learning\n",
        "\n",
        "Handwritten digit classifier\n",
        "------------\n",
        "\n",
        "The goal of this project is to build and train a digit classifier based on the [MNIST](https://wiki.pathmind.com/mnist) dataset. This is achieved by using [Tensorflow](https://www.tensorflow.org/).\n",
        "\n",
        "### NOTE: The Keras API is only used to get the dataset, i.e. the neural networks are built using the [nn module](https://www.tensorflow.org/api_docs/python/tf/nn)."
      ]
    },
    {
      "cell_type": "markdown",
      "metadata": {
        "id": "LF24Kn9f4qsq"
      },
      "source": [
        "# 1. Preparation"
      ]
    },
    {
      "cell_type": "code",
      "metadata": {
        "id": "IcoScg5UqRnL"
      },
      "source": [
        "import tensorflow as tf\n",
        "import numpy as np\n",
        "import matplotlib.pyplot as plt\n",
        "\n",
        "from tensorflow.keras.datasets import mnist\n",
        "from sklearn.model_selection import train_test_split"
      ],
      "execution_count": 40,
      "outputs": []
    },
    {
      "cell_type": "markdown",
      "metadata": {
        "id": "hRRu3LlBu2xl"
      },
      "source": [
        "### There are 60000 training images with dimensions 28 x 28. In other words, each sample is a square matrx and every element in that matrix is a value of a pixel. The lower the value the less \"activation\" that pixel has."
      ]
    },
    {
      "cell_type": "code",
      "metadata": {
        "colab": {
          "base_uri": "https://localhost:8080/"
        },
        "id": "X6svTG_RqXQu",
        "outputId": "b7ce14ec-b3af-4caf-f518-a63b6c644957"
      },
      "source": [
        "(X_train, y_train), (X_test, y_test) = mnist.load_data()\n",
        "\n",
        "print('Training set:', X_train.shape, y_train.shape)\n",
        "print('Test set:', X_test.shape, y_test.shape)"
      ],
      "execution_count": 41,
      "outputs": [
        {
          "output_type": "stream",
          "text": [
            "Training set: (60000, 28, 28) (60000,)\n",
            "Test set: (10000, 28, 28) (10000,)\n"
          ],
          "name": "stdout"
        }
      ]
    },
    {
      "cell_type": "code",
      "metadata": {
        "colab": {
          "base_uri": "https://localhost:8080/"
        },
        "id": "GTEeZ3Tw6H4q",
        "outputId": "2a835940-7881-4afe-82db-078c79961ff5"
      },
      "source": [
        "X_train.dtype"
      ],
      "execution_count": 42,
      "outputs": [
        {
          "output_type": "execute_result",
          "data": {
            "text/plain": [
              "dtype('uint8')"
            ]
          },
          "metadata": {
            "tags": []
          },
          "execution_count": 42
        }
      ]
    },
    {
      "cell_type": "markdown",
      "metadata": {
        "id": "j1Uob6_o5oST"
      },
      "source": [
        "## There are 10 classes to predict - each label is the actual digit"
      ]
    },
    {
      "cell_type": "code",
      "metadata": {
        "colab": {
          "base_uri": "https://localhost:8080/"
        },
        "id": "QXrJsYZm5r8p",
        "outputId": "6d3cd058-7b12-43e8-ad47-9381c96c2ff2"
      },
      "source": [
        "np.unique(y_train)"
      ],
      "execution_count": 43,
      "outputs": [
        {
          "output_type": "execute_result",
          "data": {
            "text/plain": [
              "array([0, 1, 2, 3, 4, 5, 6, 7, 8, 9], dtype=uint8)"
            ]
          },
          "metadata": {
            "tags": []
          },
          "execution_count": 43
        }
      ]
    },
    {
      "cell_type": "markdown",
      "metadata": {
        "id": "VTx3Pe2m_Cmr"
      },
      "source": [
        "### Use 20% of the training set to make a validation set"
      ]
    },
    {
      "cell_type": "code",
      "metadata": {
        "colab": {
          "base_uri": "https://localhost:8080/"
        },
        "id": "6HkcYUxx_FgS",
        "outputId": "3fa2dde1-8adf-48e1-e2c4-fcd5e0d70478"
      },
      "source": [
        "X_train, X_val, y_train, y_val = train_test_split(X_train, y_train, test_size=0.2)\n",
        "\n",
        "NUM_TRAIN = X_train.shape[0]\n",
        "\n",
        "print('Training set:', X_train.shape, y_train.shape)\n",
        "print('Validation set:', X_val.shape, y_val.shape)\n",
        "print('Test set:', X_test.shape, y_test.shape)"
      ],
      "execution_count": 44,
      "outputs": [
        {
          "output_type": "stream",
          "text": [
            "Training set: (48000, 28, 28) (48000,)\n",
            "Validation set: (12000, 28, 28) (12000,)\n",
            "Test set: (10000, 28, 28) (10000,)\n"
          ],
          "name": "stdout"
        }
      ]
    },
    {
      "cell_type": "markdown",
      "metadata": {
        "id": "VedhzTgB5adV"
      },
      "source": [
        "## Since gradient descent will be used for training, scale the input features by dividing by 255\n",
        "\n",
        "NOTE: Since they are initially of type 'uint8' the scaling process will also convert them to floats."
      ]
    },
    {
      "cell_type": "code",
      "metadata": {
        "colab": {
          "base_uri": "https://localhost:8080/"
        },
        "id": "oJTZ4ovl6cZ8",
        "outputId": "344d858e-bd66-4bf9-d5bb-8821c82d0b3e"
      },
      "source": [
        "X_train = X_train / 255\n",
        "X_val = X_val / 255\n",
        "\n",
        "np.unique(X_train[0]) # make sure scaling worked"
      ],
      "execution_count": 45,
      "outputs": [
        {
          "output_type": "execute_result",
          "data": {
            "text/plain": [
              "array([0.        , 0.00392157, 0.00784314, 0.01176471, 0.01960784,\n",
              "       0.02352941, 0.02745098, 0.03529412, 0.03921569, 0.04313725,\n",
              "       0.04705882, 0.05098039, 0.06666667, 0.07058824, 0.0745098 ,\n",
              "       0.07843137, 0.10196078, 0.10588235, 0.10980392, 0.12156863,\n",
              "       0.1254902 , 0.12941176, 0.1372549 , 0.14901961, 0.15294118,\n",
              "       0.18039216, 0.18431373, 0.20784314, 0.21176471, 0.24313725,\n",
              "       0.25490196, 0.25882353, 0.2745098 , 0.27843137, 0.28235294,\n",
              "       0.28627451, 0.30196078, 0.31764706, 0.32156863, 0.33333333,\n",
              "       0.3372549 , 0.34509804, 0.35686275, 0.36862745, 0.38823529,\n",
              "       0.40392157, 0.42352941, 0.43921569, 0.44705882, 0.45098039,\n",
              "       0.4745098 , 0.49803922, 0.51764706, 0.52941176, 0.5372549 ,\n",
              "       0.54117647, 0.55686275, 0.56862745, 0.57254902, 0.58823529,\n",
              "       0.6       , 0.60392157, 0.61176471, 0.63921569, 0.64313725,\n",
              "       0.6627451 , 0.67058824, 0.6745098 , 0.68235294, 0.69019608,\n",
              "       0.69803922, 0.71372549, 0.71764706, 0.72156863, 0.72941176,\n",
              "       0.74117647, 0.74901961, 0.76470588, 0.76862745, 0.78823529,\n",
              "       0.82745098, 0.84313725, 0.84705882, 0.85098039, 0.85490196,\n",
              "       0.88235294, 0.88627451, 0.89411765, 0.89803922, 0.92156863,\n",
              "       0.93333333, 0.94117647, 0.94901961, 0.96078431, 0.96862745,\n",
              "       0.98039216, 0.98431373, 0.99215686, 0.99607843, 1.        ])"
            ]
          },
          "metadata": {
            "tags": []
          },
          "execution_count": 45
        }
      ]
    },
    {
      "cell_type": "markdown",
      "metadata": {
        "id": "I-_1IwSIriNr"
      },
      "source": [
        "## 10 random samples"
      ]
    },
    {
      "cell_type": "code",
      "metadata": {
        "colab": {
          "base_uri": "https://localhost:8080/",
          "height": 223
        },
        "id": "MJyaNsuYsYRe",
        "outputId": "172a271b-5cd1-4ae9-8035-aec49d44ea3d"
      },
      "source": [
        "for i in range(10):\n",
        "  plt.subplot(2, 5, i + 1)\n",
        "  sample_idx = np.random.randint(NUM_TRAIN) # generate random number between 0 and 59_999\n",
        "  image = X_train[sample_idx] # get that image\n",
        "  plt.imshow(image, cmap='gray')\n",
        "  plt.axis('off')\n",
        "  plt.title(y_train[sample_idx])\n",
        "\n",
        "plt.show()"
      ],
      "execution_count": 46,
      "outputs": [
        {
          "output_type": "display_data",
          "data": {
            "image/png": "[encoded data removed]",
            "text/plain": [
              "<Figure size 432x288 with 10 Axes>"
            ]
          },
          "metadata": {
            "tags": [],
            "needs_background": "light"
          }
        }
      ]
    },
    {
      "cell_type": "markdown",
      "metadata": {
        "id": "-lwpZGUqIhYi"
      },
      "source": [
        "## Batch and shuffle"
      ]
    },
    {
      "cell_type": "code",
      "metadata": {
        "id": "_HMXwZmmIkb0"
      },
      "source": [
        "batch_size = 16\n",
        "train_tf_dataset = tf.data.Dataset.from_tensor_slices(\n",
        "    (train_dataset, train_labels)).shuffle(1000).batch(batch_size)"
      ],
      "execution_count": null,
      "outputs": []
    },
    {
      "cell_type": "markdown",
      "metadata": {
        "id": "9UayAmeA4s8K"
      },
      "source": [
        "# 2. Building and training model"
      ]
    },
    {
      "cell_type": "markdown",
      "metadata": {
        "id": "EmfqS-lc4zD-"
      },
      "source": [
        "## Define the model\n",
        "  - Layer 1: Flattening layer. Used to combine all pixels in one big vector.\n",
        "  - Layer 2: Dense hidden layer with 300 neurons. It will use the ReLU activation function.\n",
        "  - Layer 3: Dense hidden layer with 100 neurons. It will use the ReLU activation function.\n",
        "  - Layer 4: Dense output layer with 10 neurons (one per class/digit label). It will use the softmax activation function.\n",
        "\n",
        "NOTE: Inspiration for the model: [Hands-On Machine Learning with Scikit-Learn, Keras, and TensorFlow](https://www.amazon.com/Hands-Machine-Learning-Scikit-Learn-TensorFlow/dp/1492032646)"
      ]
    },
    {
      "cell_type": "code",
      "metadata": {
        "id": "Cof_anKo6yo4"
      },
      "source": [
        "# layer 2\n",
        "W2 = tf.Variable(tf.random.truncated_normal((300, ), stddev=0.1))\n",
        "b2 = tf.Variable(tf.constant(1.0, shape=(300, )))\n",
        "\n",
        "# layer 3\n",
        "W3 = tf.Variable(tf.random.truncated_normal((100, ), stddev=0.1))\n",
        "b3 = tf.Variable(tf.constant(1.0, shape=(100, )))\n",
        "\n",
        "# layer 4\n",
        "W4 = tf.Variable(tf.random.truncated_normal((10, ), stddev=0.1))\n",
        "b4 = tf.Variable(tf.constant(1.0, shape=(10, )))\n",
        "\n",
        "def model(data):\n",
        "  X = np.flatten(data)\n",
        "\n",
        "  hidden1 = tf.nn.relu(tf.matmul(X, W2) + b2)\n",
        "  hidden2 = tf.nn.relu(tf.matmul(hidden1, W3) + b3)\n",
        "\n",
        "  return tf.matmul(hidden2, W4) + b4"
      ],
      "execution_count": 47,
      "outputs": []
    },
    {
      "cell_type": "markdown",
      "metadata": {
        "id": "FsIyREyXC2Ks"
      },
      "source": [
        "## Compute loss"
      ]
    },
    {
      "cell_type": "code",
      "metadata": {
        "id": "3KOgJdYMC0hi"
      },
      "source": [
        "def compute_loss(labels, logits):\n",
        "  loss = tf.nn.softmax_cross_entropy_with_logits(logits = logits, labels = labels)\n",
        "  cost = tf.reduce_mean(loss)\n",
        "  return cost"
      ],
      "execution_count": 48,
      "outputs": []
    },
    {
      "cell_type": "markdown",
      "metadata": {
        "id": "EEJgQvhZE7jh"
      },
      "source": [
        "## Compute accuracy"
      ]
    },
    {
      "cell_type": "code",
      "metadata": {
        "id": "wl39g-e4E2XB"
      },
      "source": [
        "def accuracy(predictions, labels):\n",
        "  return (100.0 * np.sum(np.argmax(predictions, 1) == np.argmax(labels, 1))\n",
        "          / predictions.shape[0])"
      ],
      "execution_count": 49,
      "outputs": []
    },
    {
      "cell_type": "markdown",
      "metadata": {
        "id": "w2TZUcmFDwmh"
      },
      "source": [
        "## Test and improve model"
      ]
    },
    {
      "cell_type": "code",
      "metadata": {
        "colab": {
          "base_uri": "https://localhost:8080/",
          "height": 382
        },
        "id": "Ev43Ss9qDwNj",
        "outputId": "393ae357-1789-4933-ace5-50a7befb88ff"
      },
      "source": [
        "num_steps = 1000\n",
        "display_step = 100\n",
        "learning_rate = 0.05\n",
        "\n",
        "optimizer = tf.keras.optimizers.SGD(learning_rate)\n",
        "\n",
        "# Run training for the given number of steps.\n",
        "for step, data in enumerate(X_train):\n",
        "  # Training computation.\n",
        "  with tf.GradientTape() as g:\n",
        "    logits = model(data)\n",
        "    loss = compute_loss(y_train, logits)\n",
        "\n",
        "  # Optimizer.\n",
        "  optimizer.minimize(loss, g.watched_variables(), tape=g)\n",
        "\n",
        "  # Predictions for the training, validation, and test data.\n",
        "  if step % display_step == 0:\n",
        "    train_prediction = tf.nn.softmax(logits)\n",
        "    train_acc = accuracy(train_prediction, batch_y)\n",
        "    \n",
        "    valid_prediction = tf.nn.softmax(model(X_val))\n",
        "    valid_acc = accuracy(valid_prediction, y_val)\n",
        "    print(\"step: %i, loss: %f, train acc: %f, validation acc: %f\" % (step, loss, train_acc, valid_acc))\n",
        "\n",
        "test_prediction = tf.nn.softmax(model(X_test))\n",
        "test_acc = accuracy(test_prediction, y_test)\n",
        "print(\"test acc: %f\" % (test_acc))"
      ],
      "execution_count": 50,
      "outputs": [
        {
          "output_type": "error",
          "ename": "AttributeError",
          "evalue": "ignored",
          "traceback": [
            "\u001b[0;31m---------------------------------------------------------------------------\u001b[0m",
            "\u001b[0;31mAttributeError\u001b[0m                            Traceback (most recent call last)",
            "\u001b[0;32m<ipython-input-50-ea1c030443a0>\u001b[0m in \u001b[0;36m<module>\u001b[0;34m()\u001b[0m\n\u001b[1;32m      9\u001b[0m   \u001b[0;31m# Training computation.\u001b[0m\u001b[0;34m\u001b[0m\u001b[0;34m\u001b[0m\u001b[0;34m\u001b[0m\u001b[0m\n\u001b[1;32m     10\u001b[0m   \u001b[0;32mwith\u001b[0m \u001b[0mtf\u001b[0m\u001b[0;34m.\u001b[0m\u001b[0mGradientTape\u001b[0m\u001b[0;34m(\u001b[0m\u001b[0;34m)\u001b[0m \u001b[0;32mas\u001b[0m \u001b[0mg\u001b[0m\u001b[0;34m:\u001b[0m\u001b[0;34m\u001b[0m\u001b[0;34m\u001b[0m\u001b[0m\n\u001b[0;32m---> 11\u001b[0;31m     \u001b[0mlogits\u001b[0m \u001b[0;34m=\u001b[0m \u001b[0mmodel\u001b[0m\u001b[0;34m(\u001b[0m\u001b[0mX_train\u001b[0m\u001b[0;34m)\u001b[0m\u001b[0;34m\u001b[0m\u001b[0;34m\u001b[0m\u001b[0m\n\u001b[0m\u001b[1;32m     12\u001b[0m     \u001b[0mloss\u001b[0m \u001b[0;34m=\u001b[0m \u001b[0mcompute_loss\u001b[0m\u001b[0;34m(\u001b[0m\u001b[0my_train\u001b[0m\u001b[0;34m,\u001b[0m \u001b[0mlogits\u001b[0m\u001b[0;34m)\u001b[0m\u001b[0;34m\u001b[0m\u001b[0;34m\u001b[0m\u001b[0m\n\u001b[1;32m     13\u001b[0m \u001b[0;34m\u001b[0m\u001b[0m\n",
            "\u001b[0;32m<ipython-input-47-cd0ffa739d6c>\u001b[0m in \u001b[0;36mmodel\u001b[0;34m(data)\u001b[0m\n\u001b[1;32m     12\u001b[0m \u001b[0;34m\u001b[0m\u001b[0m\n\u001b[1;32m     13\u001b[0m \u001b[0;32mdef\u001b[0m \u001b[0mmodel\u001b[0m\u001b[0;34m(\u001b[0m\u001b[0mdata\u001b[0m\u001b[0;34m)\u001b[0m\u001b[0;34m:\u001b[0m\u001b[0;34m\u001b[0m\u001b[0;34m\u001b[0m\u001b[0m\n\u001b[0;32m---> 14\u001b[0;31m   \u001b[0mX\u001b[0m \u001b[0;34m=\u001b[0m \u001b[0mnp\u001b[0m\u001b[0;34m.\u001b[0m\u001b[0mflatten\u001b[0m\u001b[0;34m(\u001b[0m\u001b[0mdata\u001b[0m\u001b[0;34m)\u001b[0m\u001b[0;34m\u001b[0m\u001b[0;34m\u001b[0m\u001b[0m\n\u001b[0m\u001b[1;32m     15\u001b[0m \u001b[0;34m\u001b[0m\u001b[0m\n\u001b[1;32m     16\u001b[0m   \u001b[0mhidden1\u001b[0m \u001b[0;34m=\u001b[0m \u001b[0mtf\u001b[0m\u001b[0;34m.\u001b[0m\u001b[0mnn\u001b[0m\u001b[0;34m.\u001b[0m\u001b[0mrelu\u001b[0m\u001b[0;34m(\u001b[0m\u001b[0mtf\u001b[0m\u001b[0;34m.\u001b[0m\u001b[0mmatmul\u001b[0m\u001b[0;34m(\u001b[0m\u001b[0mX\u001b[0m\u001b[0;34m,\u001b[0m \u001b[0mW2\u001b[0m\u001b[0;34m)\u001b[0m \u001b[0;34m+\u001b[0m \u001b[0mb2\u001b[0m\u001b[0;34m)\u001b[0m\u001b[0;34m\u001b[0m\u001b[0;34m\u001b[0m\u001b[0m\n",
            "\u001b[0;32m/usr/local/lib/python3.7/dist-packages/numpy/__init__.py\u001b[0m in \u001b[0;36m__getattr__\u001b[0;34m(attr)\u001b[0m\n\u001b[1;32m    213\u001b[0m             \u001b[0;32melse\u001b[0m\u001b[0;34m:\u001b[0m\u001b[0;34m\u001b[0m\u001b[0;34m\u001b[0m\u001b[0m\n\u001b[1;32m    214\u001b[0m                 raise AttributeError(\"module {!r} has no attribute \"\n\u001b[0;32m--> 215\u001b[0;31m                                      \"{!r}\".format(__name__, attr))\n\u001b[0m\u001b[1;32m    216\u001b[0m \u001b[0;34m\u001b[0m\u001b[0m\n\u001b[1;32m    217\u001b[0m         \u001b[0;32mdef\u001b[0m \u001b[0m__dir__\u001b[0m\u001b[0;34m(\u001b[0m\u001b[0;34m)\u001b[0m\u001b[0;34m:\u001b[0m\u001b[0;34m\u001b[0m\u001b[0;34m\u001b[0m\u001b[0m\n",
            "\u001b[0;31mAttributeError\u001b[0m: module 'numpy' has no attribute 'flatten'"
          ]
        }
      ]
    }
  ]
}